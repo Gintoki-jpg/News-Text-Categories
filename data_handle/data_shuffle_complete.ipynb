{
 "cells": [
  {
   "cell_type": "code",
   "execution_count": 1,
   "id": "0482b878",
   "metadata": {},
   "outputs": [],
   "source": [
    "import random\n",
    " \n"
   ]
  },
  {
   "cell_type": "code",
   "execution_count": 5,
   "id": "be54b22e",
   "metadata": {},
   "outputs": [],
   "source": [
    "out_file = open('./data/end_data/dev_shuffle.txt','w',encoding='utf-8')  #输出文件位置\n",
    " \n",
    "lines = []\n",
    " \n",
    "with open('./data/target_data/dev.txt', 'r',encoding='utf-8') as f:   #需要打乱的原文件位置\n",
    "    for line in f:  \n",
    "        lines.append(line)\n",
    "random.shuffle(lines)\n",
    " \n",
    "for line in lines:\n",
    "    out_file.write(line)\n",
    " \n",
    "out_file.close()"
   ]
  },
  {
   "cell_type": "code",
   "execution_count": 6,
   "id": "504c9ca2",
   "metadata": {},
   "outputs": [],
   "source": [
    "\n",
    "out_file = open('./data/end_data/train_shuffle.txt','w',encoding='utf-8')  #输出文件位置\n",
    " \n",
    "lines = []\n",
    " \n",
    "with open('./data/target_data/train.txt', 'r',encoding='utf-8') as f:   #需要打乱的原文件位置\n",
    "    for line in f:  \n",
    "        lines.append(line)\n",
    "random.shuffle(lines)\n",
    " \n",
    "for line in lines:\n",
    "    out_file.write(line)\n",
    " \n",
    "out_file.close()"
   ]
  },
  {
   "cell_type": "code",
   "execution_count": 8,
   "id": "2b1263d5",
   "metadata": {},
   "outputs": [],
   "source": [
    "\n",
    "out_file = open('./data/end_data/test_shuffle.txt','w',encoding='utf-8')  #输出文件位置\n",
    " \n",
    "lines = []\n",
    " \n",
    "with open('./data/target_data/test.txt', 'r',encoding='utf-8') as f:   #需要打乱的原文件位置\n",
    "    for line in f:  \n",
    "        lines.append(line)\n",
    "random.shuffle(lines)\n",
    " \n",
    "for line in lines:\n",
    "    out_file.write(line)\n",
    " \n",
    "out_file.close()"
   ]
  },
  {
   "cell_type": "code",
   "execution_count": null,
   "id": "515c001d",
   "metadata": {},
   "outputs": [],
   "source": []
  }
 ],
 "metadata": {
  "kernelspec": {
   "display_name": "pytorch_py3.7",
   "language": "python",
   "name": "python3"
  },
  "language_info": {
   "codemirror_mode": {
    "name": "ipython",
    "version": 3
   },
   "file_extension": ".py",
   "mimetype": "text/x-python",
   "name": "python",
   "nbconvert_exporter": "python",
   "pygments_lexer": "ipython3",
   "version": "3.7.16"
  }
 },
 "nbformat": 4,
 "nbformat_minor": 5
}
